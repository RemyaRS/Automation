{
 "cells": [
  {
   "cell_type": "markdown",
   "id": "e9602962",
   "metadata": {},
   "source": [
    "Automation is a term for technology applications where human input is minimized. This includes business process automation (BPA), IT automation, personal applications such as home automation and more."
   ]
  },
  {
   "cell_type": "code",
   "execution_count": 20,
   "id": "0c64c57f",
   "metadata": {},
   "outputs": [],
   "source": [
    "# if selenium is used for the first time -- use -- pip install selenium\n",
    "#its a package used for automation"
   ]
  },
  {
   "cell_type": "code",
   "execution_count": 21,
   "id": "740b0257",
   "metadata": {},
   "outputs": [],
   "source": [
    "from selenium import webdriver\n",
    "# To interact with chrome webdriver is used"
   ]
  },
  {
   "cell_type": "code",
   "execution_count": 22,
   "id": "e55a5632",
   "metadata": {},
   "outputs": [
    {
     "name": "stderr",
     "output_type": "stream",
     "text": [
      "C:\\Users\\Admin\\AppData\\Local\\Temp/ipykernel_14044/1489735247.py:1: DeprecationWarning: executable_path has been deprecated, please pass in a Service object\n",
      "  browser = webdriver.Chrome(executable_path=\"C:/chromedriver/chromedriver\")\n"
     ]
    }
   ],
   "source": [
    "browser = webdriver.Chrome(executable_path=\"C:/chromedriver/chromedriver\")\n",
    "# To open chrome window, an instance is made"
   ]
  },
  {
   "cell_type": "code",
   "execution_count": 23,
   "id": "080397a5",
   "metadata": {},
   "outputs": [],
   "source": [
    "browser.get(\"https://www.google.com\")\n",
    "# The url to be accessed is mentioned\n",
    "# Now google search will appear in browser"
   ]
  },
  {
   "cell_type": "code",
   "execution_count": 24,
   "id": "ac89c0d4",
   "metadata": {},
   "outputs": [],
   "source": [
    "#TO INPUT Google search - inspect :\n",
    "\n",
    "#<input class=\"gLFyf gsfi\" jsaction=\"paste:puy29d;\" maxlength=\"2048\" name=\"q\" type=\"text\" aria-autocomplete=\"both\" aria-haspopup=\"false\" autocapitalize=\"off\" autocomplete=\"off\" autocorrect=\"off\" autofocus=\"\" role=\"combobox\" spellcheck=\"false\" title=\"Search\" value=\"\" aria-label=\"Search\" data-ved=\"0ahUKEwjO277l5rH5AhUbT2wGHW2fAYEQ39UDCAQ\">"
   ]
  },
  {
   "cell_type": "code",
   "execution_count": 25,
   "id": "6cedb31c",
   "metadata": {},
   "outputs": [],
   "source": [
    "search_input = browser.find_element(\"name\",'q')\n",
    "# To fetch input so as to place the term to be searched in the search bar of google search"
   ]
  },
  {
   "cell_type": "code",
   "execution_count": 26,
   "id": "69dafad0",
   "metadata": {},
   "outputs": [],
   "source": [
    "search_input.send_keys('Singapore')\n",
    "# Here term to be searched is mentioned"
   ]
  },
  {
   "cell_type": "code",
   "execution_count": 27,
   "id": "92e49fe3",
   "metadata": {},
   "outputs": [],
   "source": [
    "#import time\n",
    "#time.sleep(20)"
   ]
  },
  {
   "cell_type": "code",
   "execution_count": 28,
   "id": "bba74e43",
   "metadata": {},
   "outputs": [],
   "source": [
    "#To click google search - inspect\n",
    "#<input class=\"gNO89b\" value=\"Google Search\" aria-label=\"Google Search\" name=\"btnK\" role=\"button\" tabindex=\"0\" type=\"submit\" data-ved=\"0ahUKEwjQucza6bH5AhUuRmwGHVRGBDYQ4dUDCAs\">"
   ]
  },
  {
   "cell_type": "code",
   "execution_count": 29,
   "id": "6ebe230c",
   "metadata": {},
   "outputs": [],
   "source": [
    "from selenium.webdriver.common.by import By\n",
    "# By module is imported to acsess search button"
   ]
  },
  {
   "cell_type": "code",
   "execution_count": 30,
   "id": "c462615a",
   "metadata": {},
   "outputs": [],
   "source": [
    "search_button = browser.find_element(By.CSS_SELECTOR,'input[type=\"submit\"]')\n",
    "# To select search button via input type submit which is unique compared to previous input in inspect"
   ]
  },
  {
   "cell_type": "code",
   "execution_count": 31,
   "id": "018b63e6",
   "metadata": {},
   "outputs": [],
   "source": [
    "search_button.click()\n",
    "# To click the search button"
   ]
  }
 ],
 "metadata": {
  "kernelspec": {
   "display_name": "Python 3 (ipykernel)",
   "language": "python",
   "name": "python3"
  },
  "language_info": {
   "codemirror_mode": {
    "name": "ipython",
    "version": 3
   },
   "file_extension": ".py",
   "mimetype": "text/x-python",
   "name": "python",
   "nbconvert_exporter": "python",
   "pygments_lexer": "ipython3",
   "version": "3.9.7"
  }
 },
 "nbformat": 4,
 "nbformat_minor": 5
}
